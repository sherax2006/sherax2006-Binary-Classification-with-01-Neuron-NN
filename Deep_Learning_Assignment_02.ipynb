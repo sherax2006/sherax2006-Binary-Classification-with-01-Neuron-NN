{
  "nbformat": 4,
  "nbformat_minor": 0,
  "metadata": {
    "colab": {
      "provenance": []
    },
    "kernelspec": {
      "name": "python3",
      "display_name": "Python 3"
    },
    "language_info": {
      "name": "python"
    }
  },
  "cells": [
    {
      "cell_type": "markdown",
      "source": [
        "**Load Dataset, check the shape and statistics of Dataset. Also make features and label class separate**"
      ],
      "metadata": {
        "id": "s9sBGxE8brf6"
      }
    },
    {
      "cell_type": "code",
      "execution_count": 96,
      "metadata": {
        "collapsed": true,
        "id": "7j3IbG2VIxi7"
      },
      "outputs": [],
      "source": [
        "# https://www.kaggle.com/datasets/yasserhessein/multiclass-diabetes-dataset\n",
        "\n",
        "import pandas as pd\n",
        "\n",
        "df = pd.read_csv('/content/Multiclass Diabetes Dataset.csv')\n",
        "df.isna().sum\n",
        "df.duplicated().sum\n",
        "\n",
        "X = df.drop(columns=['Class'])\n",
        "y = df['Class']\n"
      ]
    },
    {
      "cell_type": "markdown",
      "source": [
        "**Split Training and Testing examples**"
      ],
      "metadata": {
        "id": "wIfD4GU3b4bd"
      }
    },
    {
      "cell_type": "code",
      "source": [
        "from sklearn.model_selection import train_test_split\n",
        "\n",
        "X_train, X_test, y_train, y_test = train_test_split(\n",
        "    X, y,\n",
        "    test_size=0.2,\n",
        "    random_state=42,\n",
        "    stratify=y\n",
        ")\n"
      ],
      "metadata": {
        "id": "VMgJoGnqW0fY"
      },
      "execution_count": 97,
      "outputs": []
    },
    {
      "cell_type": "markdown",
      "source": [
        "**Converting into Matrices so that I can compute Neural Network's calculation in Forward pass and Backpropagation**"
      ],
      "metadata": {
        "id": "J1uJB9zRcLdn"
      }
    },
    {
      "cell_type": "code",
      "source": [
        "import numpy as np\n",
        "num_classes = len(np.unique(y))\n",
        "\n",
        "y_train_matrix = np.eye(num_classes)[y_train]\n",
        "y_test_matrix = np.eye(num_classes)[y_test]"
      ],
      "metadata": {
        "id": "tlgIlZexXP9L"
      },
      "execution_count": 98,
      "outputs": []
    },
    {
      "cell_type": "markdown",
      "source": [
        "**Developing a weights and bias Matrix that will be fed into network **"
      ],
      "metadata": {
        "id": "v2ROMKf_cObX"
      }
    },
    {
      "cell_type": "code",
      "source": [
        "X = X_train.to_numpy()\n",
        "\n",
        "x_test_matrix = X_test.to_numpy()\n",
        "\n",
        "x_test_matrix = (x_test_matrix - x_test_matrix.mean(axis=0)) / x_test_matrix.std(axis=0)\n",
        "X = (X - X.mean(axis=0)) / X.std(axis=0)\n",
        "\n",
        "num_features = X.shape[1]\n",
        "weights = np.random.rand(num_features,num_classes) * 0.01\n",
        "bias = np.zeros((1, num_classes))"
      ],
      "metadata": {
        "id": "6gHURREoXh-6"
      },
      "execution_count": 99,
      "outputs": []
    },
    {
      "cell_type": "markdown",
      "source": [
        "**Function for Feed forward and Back propagation in Neural Network**"
      ],
      "metadata": {
        "id": "RFT5Ameqcy6E"
      }
    },
    {
      "cell_type": "code",
      "source": [
        "num_epochs = 1000\n",
        "learning_rate = .01\n",
        "loss_vector = []\n",
        "val_loss_vector = []\n",
        "\n",
        "# Applying Matrix Multiplication\n",
        "def softmax(z):\n",
        "    exp_z = np.exp(z - np.max(z, axis=1, keepdims=True))\n",
        "    return exp_z / np.sum(exp_z, axis=1, keepdims=True)\n",
        "\n",
        "def cal_Z():\n",
        "  global bias\n",
        "  mat_mul = np.dot(X,weights)\n",
        "  return mat_mul + bias\n",
        "def update_weights ():\n",
        "  global  weights\n",
        "  weights = weights- learning_rate*calcGradients()\n",
        "\n",
        "def activation(z):\n",
        "  return softmax(z)\n",
        "\n",
        "def calcGradients():\n",
        "  global bias\n",
        "  z = cal_Z()\n",
        "  a = activation(z)\n",
        "  loss =  (a-y_train_matrix)\n",
        "  bias -= learning_rate * np.mean(a - y_train_matrix, axis=0, keepdims=True)\n",
        "\n",
        "\n",
        "  gradient = np.dot(X.T,loss)\n",
        "  gradient /=  X.shape[0]\n",
        "\n",
        "\n",
        "  eps = 1e-8  # to avoid log(0)\n",
        "  cce_loss = -np.mean(np.sum(y_train_matrix * np.log(a + eps), axis=1))\n",
        "  loss_vector.append(cce_loss)\n",
        "\n",
        "  z_val = np.dot(x_test_matrix, weights) + bias\n",
        "  y_val_pred = softmax(z_val)\n",
        "  val_loss = -np.mean(np.sum(y_test_matrix * np.log(y_val_pred + 1e-8), axis=1))\n",
        "  val_loss_vector.append(val_loss)\n",
        "\n",
        "  return gradient\n",
        "\n",
        "for epoch in range(num_epochs):\n",
        "  update_weights()\n",
        "\n",
        "len(loss_vector)"
      ],
      "metadata": {
        "colab": {
          "base_uri": "https://localhost:8080/"
        },
        "id": "8iNyzrCIboty",
        "outputId": "7cfe9d73-fafb-4fe3-f549-d21ad3a890aa"
      },
      "execution_count": 100,
      "outputs": [
        {
          "output_type": "execute_result",
          "data": {
            "text/plain": [
              "1000"
            ]
          },
          "metadata": {},
          "execution_count": 100
        }
      ]
    },
    {
      "cell_type": "markdown",
      "source": [
        "**Applying Forward Pass on test data**"
      ],
      "metadata": {
        "id": "4mpm7THnhE7F"
      }
    },
    {
      "cell_type": "code",
      "source": [
        "\n",
        "def softmax(z):\n",
        "    exp_z = np.exp(z - np.max(z, axis=1, keepdims=True))\n",
        "    return exp_z / np.sum(exp_z, axis=1, keepdims=True)\n",
        "\n",
        "\n",
        "\n",
        "z_test = np.dot(x_test_matrix, weights) + bias\n",
        "y_pred = softmax(z_test)\n",
        "y_pred_class = np.argmax(y_pred, axis=1)\n",
        "\n",
        "if isinstance(y_test, pd.Series):\n",
        "   y_test = y_test.to_numpy()\n",
        "  # # Calculate Accuracy Score\n",
        "accuracy = np.mean(y_pred_class == y_test)\n",
        "\n",
        "print(\"Accuracy : \",accuracy)"
      ],
      "metadata": {
        "colab": {
          "base_uri": "https://localhost:8080/"
        },
        "id": "VXPIT7bnhINi",
        "outputId": "f9b11d0c-3e7e-4b67-fba6-2a62c1c9ec27"
      },
      "execution_count": 101,
      "outputs": [
        {
          "output_type": "stream",
          "name": "stdout",
          "text": [
            "Accuracy :  0.8301886792452831\n"
          ]
        }
      ]
    },
    {
      "cell_type": "code",
      "source": [
        "import matplotlib.pyplot as plt\n",
        "\n",
        "plt.plot(loss_vector, label='Training Loss', color='blue')\n",
        "\n",
        "plt.plot(val_loss_vector, label='Validation Loss', color='orange')\n",
        "\n",
        "plt.xlabel('Epochs')\n",
        "plt.ylabel('Loss')\n",
        "plt.title('Training vs validation Loss Curve')\n",
        "plt.legend()\n",
        "plt.show()\n",
        "\n",
        "print(\"Training Loss: \",loss_vector[-1])\n",
        "print(\"Testing Loss: \",val_loss_vector[-1])\n"
      ],
      "metadata": {
        "colab": {
          "base_uri": "https://localhost:8080/",
          "height": 509
        },
        "id": "xDOaT6z1rRN1",
        "outputId": "33b34bdf-63f9-49ba-dbd9-6bef3508c670"
      },
      "execution_count": 103,
      "outputs": [
        {
          "output_type": "display_data",
          "data": {
            "text/plain": [
              "<Figure size 640x480 with 1 Axes>"
            ],
            "image/png": "[encoded data removed]"
          },
          "metadata": {}
        },
        {
          "output_type": "stream",
          "name": "stdout",
          "text": [
            "Training Loss:  0.40700353232576564\n",
            "Testing Loss:  0.3610231112117362\n"
          ]
        }
      ]
    }
  ]
}